{
  "nbformat": 4,
  "nbformat_minor": 0,
  "metadata": {
    "colab": {
      "name": "KNNImproveBase2.ipynb",
      "provenance": [],
      "authorship_tag": "ABX9TyOFV1YOyWGuRJlpK1sDakAq",
      "include_colab_link": true
    },
    "kernelspec": {
      "name": "python3",
      "display_name": "Python 3"
    }
  },
  "cells": [
    {
      "cell_type": "markdown",
      "metadata": {
        "id": "view-in-github",
        "colab_type": "text"
      },
      "source": [
        "<a href=\"https://colab.research.google.com/github/felipersdf/machine-learning/blob/main/KNNImproveBase2.ipynb\" target=\"_parent\"><img src=\"https://colab.research.google.com/assets/colab-badge.svg\" alt=\"Open In Colab\"/></a>"
      ]
    },
    {
      "cell_type": "code",
      "metadata": {
        "id": "NkG-2S_vXj34"
      },
      "source": [
        "from sklearn.model_selection import train_test_split\n",
        "from sklearn import metrics\n",
        "import pandas as pd\n",
        "from sklearn.neighbors import KNeighborsClassifier\n",
        "from sklearn.preprocessing import LabelEncoder\n",
        "import math\n",
        "from collections import Counter\n",
        "import numpy\n",
        "\n",
        "url = \"https://raw.githubusercontent.com/larissamoreira/machine-learning/master/datasets/car.data\"\n",
        "\n",
        "col_names = ['buying', 'maint', 'doors', 'persons', 'lug_boot', 'safety', 'class']\n",
        "feature_cols = ['buying', 'maint', 'doors', 'persons', 'lug_boot', 'safety']\n",
        "\n",
        "dataset = pd.read_csv(url, header=None, names=col_names)\n",
        "\n",
        "# representing the categorical columns as numerical columns.\n",
        "le = LabelEncoder()\n",
        "for col in dataset:\n",
        "  le.fit(dataset[col])\n",
        "  dataset[col] = le.transform(dataset[col])\n",
        "\n",
        "X = dataset[feature_cols]\n",
        "y = dataset['class']"
      ],
      "execution_count": null,
      "outputs": []
    },
    {
      "cell_type": "code",
      "metadata": {
        "id": "evNKkfMlXn3L"
      },
      "source": [
        "X_train, X_test, y_train, y_test = train_test_split(X, y, test_size=0.2, random_state=None, stratify=y) # 80% treino e 20% teste\n",
        "\n",
        "K = 7   # Quantidade de vizinhos mais próximos\n",
        "\n",
        "### Tranforma os dados em listas\n",
        "\n",
        "train_x = X_train.values.tolist()\n",
        "train_y = y_train.values.tolist()\n",
        "\n",
        "test_x = X_test.values.tolist()\n",
        "test_y = y_test.values.tolist()"
      ],
      "execution_count": null,
      "outputs": []
    },
    {
      "cell_type": "code",
      "metadata": {
        "id": "lUtuYCejXqj0"
      },
      "source": [
        "resultKNN = []\n",
        "resultKNN_improve = []\n",
        "\n",
        "raios = calcular_raios(train_x, train_y)\n",
        "\n",
        "for i in range(len(test_x)):\n",
        "  \n",
        "  # classe = knn(train_x, train_y, test_x[i], K)\n",
        "  # resultKNN.append(classe)\n",
        "  \n",
        "  classeI = knn_improve(train_x, train_y, test_x[i], K, raios)\n",
        "  resultKNN_improve.append(classeI)\n",
        "\n",
        "# acc = metrics.accuracy_score(resultKNN, test_y)\n",
        "acc2 = metrics.accuracy_score(resultKNN_improve, test_y)\n",
        "# show = round(acc * 100)\n",
        "show2 = round(acc2 * 100)\n",
        "# print(\"{}%\".format(show))\n",
        "print(\"{}%\".format(show2))\n",
        "\n",
        "# print(resultKNN)\n",
        "print(resultKNN_improve)\n",
        "print(test_y)"
      ],
      "execution_count": null,
      "outputs": []
    },
    {
      "cell_type": "code",
      "metadata": {
        "id": "Le0q1TbaXsbi"
      },
      "source": [
        "###############\n",
        "#\n",
        "# KNN Improve\n",
        "#\n",
        "###############\n",
        "def calcular_raios(train_x, train_y):\n",
        "  e = 1e-20\n",
        "  raios = []\n",
        "\n",
        "  for i in range(len(train_x)):\n",
        "    newData = train_x.copy()\n",
        "    newData.pop(i)\n",
        "    newData_y = train_y.copy()\n",
        "    newData_y.pop(i)\n",
        "\n",
        "    results = []\n",
        "\n",
        "    for j in range(len(newData)):\n",
        "      r = 0\n",
        "      \n",
        "      for k in range(len(train_x[i])):\n",
        "        r += (train_x[i][k] - newData[j][k]) ** 2 # Distância Euclidiana\n",
        "  \n",
        "      results.append(math.sqrt(r))\n",
        "    \n",
        "    indexes = numpy.argsort(results) # retorna os índices ordenados\n",
        "\n",
        "    aux = 0\n",
        "    while train_y[i] == newData_y[indexes[aux]]:\n",
        "      aux += 1\n",
        "    \n",
        "    raios.append(results[indexes[aux]] - e)\n",
        "\n",
        "  return raios\n",
        "\n",
        "def knn_improve(train_x, train_y, test, k, raios):\n",
        "  results = []\n",
        "  \n",
        "  for i in range(len(train_x)):\n",
        "    r = 0\n",
        "    \n",
        "    for j in range(len(test)):\n",
        "      r += (test[j] - train_x[i][j]) ** 2 # Distância Euclidiana\n",
        "    \n",
        "    results.append(math.sqrt(r)/raios[i]) # Distância Euclidiana / Raio\n",
        "    \n",
        "  indexes = numpy.argsort(results) # retorna os índices ordenados\n",
        "  \n",
        "  indexes = indexes[0:k] # Pega os k índices mais próximos\n",
        "  \n",
        "  res = [train_y[i] for i in indexes] # Retorna a classe de cada um dos vizinhos\n",
        "  \n",
        "  final = Counter(res)\n",
        "\n",
        "  return final.most_common(1)[0][0] # retorna a classe com maior frequência"
      ],
      "execution_count": null,
      "outputs": []
    },
    {
      "cell_type": "code",
      "metadata": {
        "id": "tt45yUQMXtqM"
      },
      "source": [
        "def knn(train_x, train_y, test, k):\n",
        "  results = []\n",
        "  \n",
        "  for i in range(0,len(train_x)):\n",
        "    r = 0\n",
        "    \n",
        "    for j in range(0,len(test)):\n",
        "      r += (test[j] - train_x[i][j]) ** 2 # Distância Euclidiana\n",
        "    \n",
        "    results.append(math.sqrt(r)) # Distância Euclidiana\n",
        "    \n",
        "  indexes = numpy.argsort(results) # retorna os índices ordenados\n",
        "  \n",
        "  indexes = indexes[0:k] # Pega os k índices mais próximos\n",
        "  \n",
        "  res = [train_y[i] for i in indexes] # Retorna a classe de cada um dos vizinhos\n",
        "  \n",
        "  final = Counter(res)\n",
        "\n",
        "  return final.most_common(1)[0][0] # retorna a classe com maior frequência"
      ],
      "execution_count": null,
      "outputs": []
    }
  ]
}