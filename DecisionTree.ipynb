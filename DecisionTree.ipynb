{
  "nbformat": 4,
  "nbformat_minor": 0,
  "metadata": {
    "colab": {
      "name": "DecisionTree.ipynb",
      "provenance": [],
      "authorship_tag": "ABX9TyPkw+UHMMcZt0ExaPv4OOtD",
      "include_colab_link": true
    },
    "kernelspec": {
      "name": "python3",
      "display_name": "Python 3"
    }
  },
  "cells": [
    {
      "cell_type": "markdown",
      "metadata": {
        "id": "view-in-github",
        "colab_type": "text"
      },
      "source": [
        "<a href=\"https://colab.research.google.com/github/felipersdf/machine-learning/blob/main/DecisionTree.ipynb\" target=\"_parent\"><img src=\"https://colab.research.google.com/assets/colab-badge.svg\" alt=\"Open In Colab\"/></a>"
      ]
    },
    {
      "cell_type": "code",
      "metadata": {
        "id": "UWxbAyg2H9_p"
      },
      "source": [
        "from sklearn import tree\n",
        "from sklearn.model_selection import train_test_split\n",
        "from sklearn import metrics\n",
        "import pandas as pd\n",
        "\n",
        "url = \"https://raw.githubusercontent.com/felipersdf/machine-learning/main/datasets/glass.data\"\n",
        "\n",
        "\n",
        "# #LEGENDA\n",
        "#    1. Id number: 1 to 214\n",
        "#    2. RI: refractive index\n",
        "#    3. Na: Sodium (unit measurement: weight percent in corresponding oxide, as \n",
        "#                   are attributes 4-10)\n",
        "#    4. Mg: Magnesium\n",
        "#    5. Al: Aluminum\n",
        "#    6. Si: Silicon\n",
        "#    7. K: Potassium\n",
        "#    8. Ca: Calcium\n",
        "#    9. Ba: Barium\n",
        "#   10. Fe: Iron\n",
        "#   11. Type of glass: (class attribute)\n",
        "#       -- 1 building_windows_float_processed\n",
        "#       -- 2 building_windows_non_float_processed\n",
        "#       -- 3 vehicle_windows_float_processed\n",
        "#       -- 4 vehicle_windows_non_float_processed (none in this database)\n",
        "#       -- 5 containers\n",
        "#       -- 6 tableware\n",
        "#       -- 7 headlamps\n",
        "\n",
        "# GLASS\n",
        "col_names = ['id', 'ri', 'na', 'mg', 'al', 'si', 'K', 'ca', 'ba', 'fe', 'tipo']\n",
        "feature_cols = ['ri', 'na', 'mg', 'al', 'si', 'K', 'ca', 'ba', 'fe',]\n",
        "\n",
        "\n",
        "# Carregar base de dados\n",
        "# DataFrame\n",
        "dataset = pd.read_csv(url, header=None, names=col_names)\n",
        "\n",
        "X = dataset[feature_cols] # Atributos (Features)\n",
        "y = dataset.tipo # Saída"
      ],
      "execution_count": 8,
      "outputs": []
    },
    {
      "cell_type": "code",
      "metadata": {
        "id": "p5EnyIclP3zq",
        "outputId": "55002e5b-1c5c-4d3d-adb9-f65f1d44de4d",
        "colab": {
          "base_uri": "https://localhost:8080/",
          "height": 765
        }
      },
      "source": [
        "X_train, X_test, y_train, y_test = train_test_split(X, y, test_size=0.2, random_state=None, stratify=y) # 80% treino e 20% teste\n",
        "\n",
        "print(y_test)"
      ],
      "execution_count": 9,
      "outputs": [
        {
          "output_type": "stream",
          "text": [
            "175    5\n",
            "197    7\n",
            "34     1\n",
            "207    7\n",
            "7      1\n",
            "167    5\n",
            "85     2\n",
            "18     1\n",
            "155    3\n",
            "200    7\n",
            "96     2\n",
            "120    2\n",
            "25     1\n",
            "171    5\n",
            "105    2\n",
            "75     2\n",
            "1      1\n",
            "144    2\n",
            "23     1\n",
            "49     1\n",
            "116    2\n",
            "113    2\n",
            "181    6\n",
            "150    3\n",
            "22     1\n",
            "160    3\n",
            "6      1\n",
            "35     1\n",
            "179    6\n",
            "66     1\n",
            "65     1\n",
            "203    7\n",
            "72     2\n",
            "37     1\n",
            "189    7\n",
            "62     1\n",
            "78     2\n",
            "123    2\n",
            "84     2\n",
            "136    2\n",
            "114    2\n",
            "202    7\n",
            "135    2\n",
            "Name: tipo, dtype: int64\n"
          ],
          "name": "stdout"
        }
      ]
    },
    {
      "cell_type": "code",
      "metadata": {
        "id": "zV6hq2DvQFji"
      },
      "source": [
        "# Treinamendo da Árvore de Decisão\n",
        "model = tree.DecisionTreeClassifier(criterion=\"entropy\")\n",
        "model = model.fit(X_train, y_train)\n",
        "\n",
        "# Treinamendo da Árvore de Decisão\n",
        "# model = tree.DecisionTreeClassifier(criterion=\"gini\")\n",
        "# model = model.fit(X_train, y_train)"
      ],
      "execution_count": 25,
      "outputs": []
    },
    {
      "cell_type": "code",
      "metadata": {
        "id": "6j6q4t2uQROZ",
        "outputId": "d8a3d852-10d3-4e95-ab82-f9055991a188",
        "colab": {
          "base_uri": "https://localhost:8080/",
          "height": 68
        }
      },
      "source": [
        "# Predição e Resultados\n",
        "\n",
        "result = model.predict(X_test)\n",
        "acc = metrics.accuracy_score(result, y_test)\n",
        "show = round(acc * 100)\n",
        "print(\"{}%\".format(show))\n",
        "\n",
        "print(list(result))\n",
        "print(list(y_test))"
      ],
      "execution_count": 26,
      "outputs": [
        {
          "output_type": "stream",
          "text": [
            "74.0%\n",
            "[2, 7, 1, 7, 1, 5, 2, 1, 1, 7, 2, 2, 1, 5, 2, 2, 3, 1, 1, 1, 2, 2, 6, 2, 1, 2, 1, 2, 6, 1, 3, 7, 2, 1, 7, 1, 2, 2, 1, 1, 2, 7, 1]\n",
            "[5, 7, 1, 7, 1, 5, 2, 1, 3, 7, 2, 2, 1, 5, 2, 2, 1, 2, 1, 1, 2, 2, 6, 3, 1, 3, 1, 1, 6, 1, 1, 7, 2, 1, 7, 1, 2, 2, 2, 2, 2, 7, 2]\n"
          ],
          "name": "stdout"
        }
      ]
    },
    {
      "cell_type": "code",
      "metadata": {
        "id": "SWumYSk_QW-y",
        "outputId": "46399fef-b418-41e1-a509-7d3e4a7aaf01",
        "colab": {
          "base_uri": "https://localhost:8080/",
          "height": 1000
        }
      },
      "source": [
        "tree.plot_tree(model) "
      ],
      "execution_count": 27,
      "outputs": [
        {
          "output_type": "execute_result",
          "data": {
            "text/plain": [
              "[Text(141.66225, 206.56799999999998, 'X[2] <= 2.695\\nentropy = 2.171\\nsamples = 171\\nvalue = [56, 61, 14, 10, 7, 23]'),\n",
              " Text(53.568000000000005, 184.824, 'X[1] <= 13.785\\nentropy = 1.894\\nsamples = 49\\nvalue = [0, 12, 0, 10, 7, 20]'),\n",
              " Text(26.784000000000002, 163.07999999999998, 'X[3] <= 1.38\\nentropy = 1.234\\nsamples = 20\\nvalue = [0, 10, 0, 9, 0, 1]'),\n",
              " Text(13.392000000000001, 141.336, 'X[6] <= 9.96\\nentropy = 0.544\\nsamples = 8\\nvalue = [0, 7, 0, 0, 0, 1]'),\n",
              " Text(6.696000000000001, 119.592, 'entropy = 0.0\\nsamples = 1\\nvalue = [0, 0, 0, 0, 0, 1]'),\n",
              " Text(20.088, 119.592, 'entropy = 0.0\\nsamples = 7\\nvalue = [0, 7, 0, 0, 0, 0]'),\n",
              " Text(40.176, 141.336, 'X[8] <= 0.085\\nentropy = 0.811\\nsamples = 12\\nvalue = [0, 3, 0, 9, 0, 0]'),\n",
              " Text(33.480000000000004, 119.592, 'entropy = 0.0\\nsamples = 8\\nvalue = [0, 0, 0, 8, 0, 0]'),\n",
              " Text(46.87200000000001, 119.592, 'X[3] <= 2.135\\nentropy = 0.811\\nsamples = 4\\nvalue = [0, 3, 0, 1, 0, 0]'),\n",
              " Text(40.176, 97.848, 'entropy = 0.0\\nsamples = 3\\nvalue = [0, 3, 0, 0, 0, 0]'),\n",
              " Text(53.568000000000005, 97.848, 'entropy = 0.0\\nsamples = 1\\nvalue = [0, 0, 0, 1, 0, 0]'),\n",
              " Text(80.352, 163.07999999999998, 'X[7] <= 0.2\\nentropy = 1.328\\nsamples = 29\\nvalue = [0, 2, 0, 1, 7, 19]'),\n",
              " Text(66.96000000000001, 141.336, 'X[0] <= 1.52\\nentropy = 1.157\\nsamples = 10\\nvalue = [0, 2, 0, 0, 7, 1]'),\n",
              " Text(60.264, 119.592, 'entropy = 0.0\\nsamples = 7\\nvalue = [0, 0, 0, 0, 7, 0]'),\n",
              " Text(73.656, 119.592, 'X[0] <= 1.522\\nentropy = 0.918\\nsamples = 3\\nvalue = [0, 2, 0, 0, 0, 1]'),\n",
              " Text(66.96000000000001, 97.848, 'entropy = 0.0\\nsamples = 2\\nvalue = [0, 2, 0, 0, 0, 0]'),\n",
              " Text(80.352, 97.848, 'entropy = 0.0\\nsamples = 1\\nvalue = [0, 0, 0, 0, 0, 1]'),\n",
              " Text(93.74400000000001, 141.336, 'X[2] <= 2.23\\nentropy = 0.297\\nsamples = 19\\nvalue = [0, 0, 0, 1, 0, 18]'),\n",
              " Text(87.048, 119.592, 'entropy = 0.0\\nsamples = 18\\nvalue = [0, 0, 0, 0, 0, 18]'),\n",
              " Text(100.44000000000001, 119.592, 'entropy = 0.0\\nsamples = 1\\nvalue = [0, 0, 0, 1, 0, 0]'),\n",
              " Text(229.75650000000002, 184.824, 'X[3] <= 1.42\\nentropy = 1.534\\nsamples = 122\\nvalue = [56, 49, 14, 0, 0, 3]'),\n",
              " Text(161.54100000000003, 163.07999999999998, 'X[0] <= 1.517\\nentropy = 1.351\\nsamples = 77\\nvalue = [50, 14, 12, 0, 0, 1]'),\n",
              " Text(120.528, 141.336, 'X[4] <= 72.935\\nentropy = 1.371\\nsamples = 10\\nvalue = [2, 2, 6, 0, 0, 0]'),\n",
              " Text(113.83200000000001, 119.592, 'X[4] <= 72.725\\nentropy = 0.811\\nsamples = 8\\nvalue = [0, 2, 6, 0, 0, 0]'),\n",
              " Text(107.13600000000001, 97.848, 'entropy = 0.0\\nsamples = 5\\nvalue = [0, 0, 5, 0, 0, 0]'),\n",
              " Text(120.528, 97.848, 'X[1] <= 12.55\\nentropy = 0.918\\nsamples = 3\\nvalue = [0, 2, 1, 0, 0, 0]'),\n",
              " Text(113.83200000000001, 76.10399999999998, 'entropy = 0.0\\nsamples = 1\\nvalue = [0, 0, 1, 0, 0, 0]'),\n",
              " Text(127.22400000000002, 76.10399999999998, 'entropy = 0.0\\nsamples = 2\\nvalue = [0, 2, 0, 0, 0, 0]'),\n",
              " Text(127.22400000000002, 119.592, 'entropy = 0.0\\nsamples = 2\\nvalue = [2, 0, 0, 0, 0, 0]'),\n",
              " Text(202.55400000000003, 141.336, 'X[1] <= 13.62\\nentropy = 1.191\\nsamples = 67\\nvalue = [48, 12, 6, 0, 0, 1]'),\n",
              " Text(164.05200000000002, 119.592, 'X[0] <= 1.518\\nentropy = 0.857\\nsamples = 46\\nvalue = [36, 9, 0, 0, 0, 1]'),\n",
              " Text(147.312, 97.848, 'X[1] <= 12.325\\nentropy = 0.235\\nsamples = 26\\nvalue = [25, 1, 0, 0, 0, 0]'),\n",
              " Text(140.616, 76.10399999999998, 'entropy = 0.0\\nsamples = 1\\nvalue = [0, 1, 0, 0, 0, 0]'),\n",
              " Text(154.008, 76.10399999999998, 'entropy = 0.0\\nsamples = 25\\nvalue = [25, 0, 0, 0, 0, 0]'),\n",
              " Text(180.79200000000003, 97.848, 'X[0] <= 1.519\\nentropy = 1.219\\nsamples = 20\\nvalue = [11, 8, 0, 0, 0, 1]'),\n",
              " Text(167.4, 76.10399999999998, 'X[2] <= 3.555\\nentropy = 0.764\\nsamples = 9\\nvalue = [2, 7, 0, 0, 0, 0]'),\n",
              " Text(160.704, 54.360000000000014, 'X[1] <= 12.745\\nentropy = 0.918\\nsamples = 3\\nvalue = [2, 1, 0, 0, 0, 0]'),\n",
              " Text(154.008, 32.615999999999985, 'entropy = 0.0\\nsamples = 1\\nvalue = [0, 1, 0, 0, 0, 0]'),\n",
              " Text(167.4, 32.615999999999985, 'entropy = 0.0\\nsamples = 2\\nvalue = [2, 0, 0, 0, 0, 0]'),\n",
              " Text(174.096, 54.360000000000014, 'entropy = 0.0\\nsamples = 6\\nvalue = [0, 6, 0, 0, 0, 0]'),\n",
              " Text(194.18400000000003, 76.10399999999998, 'X[6] <= 8.64\\nentropy = 0.866\\nsamples = 11\\nvalue = [9, 1, 0, 0, 0, 1]'),\n",
              " Text(187.48800000000003, 54.360000000000014, 'entropy = 0.0\\nsamples = 1\\nvalue = [0, 1, 0, 0, 0, 0]'),\n",
              " Text(200.88000000000002, 54.360000000000014, 'X[0] <= 1.523\\nentropy = 0.469\\nsamples = 10\\nvalue = [9, 0, 0, 0, 0, 1]'),\n",
              " Text(194.18400000000003, 32.615999999999985, 'entropy = 0.0\\nsamples = 9\\nvalue = [9, 0, 0, 0, 0, 0]'),\n",
              " Text(207.57600000000002, 32.615999999999985, 'entropy = 0.0\\nsamples = 1\\nvalue = [0, 0, 0, 0, 0, 1]'),\n",
              " Text(241.056, 119.592, 'X[4] <= 71.25\\nentropy = 1.379\\nsamples = 21\\nvalue = [12, 3, 6, 0, 0, 0]'),\n",
              " Text(234.36, 97.848, 'entropy = 0.0\\nsamples = 2\\nvalue = [0, 2, 0, 0, 0, 0]'),\n",
              " Text(247.752, 97.848, 'X[8] <= 0.2\\nentropy = 1.167\\nsamples = 19\\nvalue = [12, 1, 6, 0, 0, 0]'),\n",
              " Text(234.36, 76.10399999999998, 'X[4] <= 72.425\\nentropy = 0.811\\nsamples = 16\\nvalue = [12, 0, 4, 0, 0, 0]'),\n",
              " Text(227.66400000000002, 54.360000000000014, 'X[0] <= 1.522\\nentropy = 0.592\\nsamples = 14\\nvalue = [12, 0, 2, 0, 0, 0]'),\n",
              " Text(220.96800000000002, 32.615999999999985, 'X[6] <= 9.245\\nentropy = 0.863\\nsamples = 7\\nvalue = [5, 0, 2, 0, 0, 0]'),\n",
              " Text(214.27200000000002, 10.872000000000014, 'entropy = 0.0\\nsamples = 5\\nvalue = [5, 0, 0, 0, 0, 0]'),\n",
              " Text(227.66400000000002, 10.872000000000014, 'entropy = 0.0\\nsamples = 2\\nvalue = [0, 0, 2, 0, 0, 0]'),\n",
              " Text(234.36, 32.615999999999985, 'entropy = 0.0\\nsamples = 7\\nvalue = [7, 0, 0, 0, 0, 0]'),\n",
              " Text(241.056, 54.360000000000014, 'entropy = 0.0\\nsamples = 2\\nvalue = [0, 0, 2, 0, 0, 0]'),\n",
              " Text(261.144, 76.10399999999998, 'X[0] <= 1.519\\nentropy = 0.918\\nsamples = 3\\nvalue = [0, 1, 2, 0, 0, 0]'),\n",
              " Text(254.44800000000004, 54.360000000000014, 'entropy = 0.0\\nsamples = 1\\nvalue = [0, 1, 0, 0, 0, 0]'),\n",
              " Text(267.84000000000003, 54.360000000000014, 'entropy = 0.0\\nsamples = 2\\nvalue = [0, 0, 2, 0, 0, 0]'),\n",
              " Text(297.97200000000004, 163.07999999999998, 'X[7] <= 0.665\\nentropy = 1.069\\nsamples = 45\\nvalue = [6, 35, 2, 0, 0, 2]'),\n",
              " Text(291.276, 141.336, 'X[4] <= 72.05\\nentropy = 0.844\\nsamples = 43\\nvalue = [6, 35, 2, 0, 0, 0]'),\n",
              " Text(274.536, 119.592, 'X[2] <= 3.54\\nentropy = 1.0\\nsamples = 4\\nvalue = [0, 2, 2, 0, 0, 0]'),\n",
              " Text(267.84000000000003, 97.848, 'entropy = 0.0\\nsamples = 2\\nvalue = [0, 0, 2, 0, 0, 0]'),\n",
              " Text(281.232, 97.848, 'entropy = 0.0\\nsamples = 2\\nvalue = [0, 2, 0, 0, 0, 0]'),\n",
              " Text(308.016, 119.592, 'X[0] <= 1.517\\nentropy = 0.619\\nsamples = 39\\nvalue = [6, 33, 0, 0, 0, 0]'),\n",
              " Text(294.624, 97.848, 'X[0] <= 1.516\\nentropy = 0.439\\nsamples = 33\\nvalue = [3, 30, 0, 0, 0, 0]'),\n",
              " Text(287.92800000000005, 76.10399999999998, 'X[8] <= 0.215\\nentropy = 0.779\\nsamples = 13\\nvalue = [3, 10, 0, 0, 0, 0]'),\n",
              " Text(281.232, 54.360000000000014, 'X[6] <= 7.82\\nentropy = 0.439\\nsamples = 11\\nvalue = [1, 10, 0, 0, 0, 0]'),\n",
              " Text(274.536, 32.615999999999985, 'entropy = 0.0\\nsamples = 1\\nvalue = [1, 0, 0, 0, 0, 0]'),\n",
              " Text(287.92800000000005, 32.615999999999985, 'entropy = 0.0\\nsamples = 10\\nvalue = [0, 10, 0, 0, 0, 0]'),\n",
              " Text(294.624, 54.360000000000014, 'entropy = 0.0\\nsamples = 2\\nvalue = [2, 0, 0, 0, 0, 0]'),\n",
              " Text(301.32000000000005, 76.10399999999998, 'entropy = 0.0\\nsamples = 20\\nvalue = [0, 20, 0, 0, 0, 0]'),\n",
              " Text(321.408, 97.848, 'X[0] <= 1.518\\nentropy = 1.0\\nsamples = 6\\nvalue = [3, 3, 0, 0, 0, 0]'),\n",
              " Text(314.71200000000005, 76.10399999999998, 'entropy = 0.0\\nsamples = 3\\nvalue = [3, 0, 0, 0, 0, 0]'),\n",
              " Text(328.10400000000004, 76.10399999999998, 'entropy = 0.0\\nsamples = 3\\nvalue = [0, 3, 0, 0, 0, 0]'),\n",
              " Text(304.668, 141.336, 'entropy = 0.0\\nsamples = 2\\nvalue = [0, 0, 0, 0, 0, 2]')]"
            ]
          },
          "metadata": {
            "tags": []
          },
          "execution_count": 27
        },
        {
          "output_type": "display_data",
          "data": {
            "image/png": "[encoded data removed]",
            "text/plain": [
              "<Figure size 432x288 with 1 Axes>"
            ]
          },
          "metadata": {
            "tags": [],
            "needs_background": "light"
          }
        }
      ]
    }
  ]
}