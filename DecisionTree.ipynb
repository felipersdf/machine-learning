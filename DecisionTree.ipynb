{
  "nbformat": 4,
  "nbformat_minor": 0,
  "metadata": {
    "colab": {
      "name": "DecisionTree.ipynb",
      "provenance": [],
      "collapsed_sections": [],
      "authorship_tag": "ABX9TyPkw+UHMMcZt0ExaPv4OOtD",
      "include_colab_link": true
    },
    "kernelspec": {
      "name": "python3",
      "display_name": "Python 3"
    }
  },
  "cells": [
    {
      "cell_type": "markdown",
      "metadata": {
        "id": "view-in-github",
        "colab_type": "text"
      },
      "source": [
        "<a href=\"https://colab.research.google.com/github/felipersdf/machine-learning/blob/main/DecisionTree.ipynb\" target=\"_parent\"><img src=\"https://colab.research.google.com/assets/colab-badge.svg\" alt=\"Open In Colab\"/></a>"
      ]
    },
    {
      "cell_type": "code",
      "metadata": {
        "id": "UWxbAyg2H9_p"
      },
      "source": [
        "from sklearn import tree\n",
        "from sklearn.model_selection import train_test_split\n",
        "from sklearn import metrics\n",
        "import pandas as pd\n",
        "\n",
        "url = \"https://raw.githubusercontent.com/felipersdf/machine-learning/main/datasets/glass.data\"\n",
        "\n",
        "\n",
        "# #LEGENDA\n",
        "#    1. Id number: 1 to 214\n",
        "#    2. RI: refractive index\n",
        "#    3. Na: Sodium (unit measurement: weight percent in corresponding oxide, as \n",
        "#                   are attributes 4-10)\n",
        "#    4. Mg: Magnesium\n",
        "#    5. Al: Aluminum\n",
        "#    6. Si: Silicon\n",
        "#    7. K: Potassium\n",
        "#    8. Ca: Calcium\n",
        "#    9. Ba: Barium\n",
        "#   10. Fe: Iron\n",
        "#   11. Type of glass: (class attribute)\n",
        "#       -- 1 building_windows_float_processed\n",
        "#       -- 2 building_windows_non_float_processed\n",
        "#       -- 3 vehicle_windows_float_processed\n",
        "#       -- 4 vehicle_windows_non_float_processed (none in this database)\n",
        "#       -- 5 containers\n",
        "#       -- 6 tableware\n",
        "#       -- 7 headlamps\n",
        "\n",
        "# GLASS\n",
        "col_names = ['id', 'ri', 'na', 'mg', 'al', 'si', 'K', 'ca', 'ba', 'fe', 'tipo']\n",
        "feature_cols = ['ri', 'na', 'mg', 'al', 'si', 'K', 'ca', 'ba', 'fe',]\n",
        "\n",
        "\n",
        "# Carregar base de dados\n",
        "# DataFrame\n",
        "dataset = pd.read_csv(url, header=None, names=col_names)\n",
        "\n",
        "X = dataset[feature_cols] # Atributos (Features)\n",
        "y = dataset.tipo # Saída"
      ],
      "execution_count": 8,
      "outputs": []
    },
    {
      "cell_type": "code",
      "metadata": {
        "id": "p5EnyIclP3zq"
      },
      "source": [
        "X_train, X_test, y_train, y_test = train_test_split(X, y, test_size=0.2, random_state=None, stratify=y) # 80% treino e 20% teste\n",
        "\n",
        "print(y_test)"
      ],
      "execution_count": null,
      "outputs": []
    },
    {
      "cell_type": "code",
      "metadata": {
        "id": "zV6hq2DvQFji"
      },
      "source": [
        "# Treinamendo da Árvore de Decisão\n",
        "model = tree.DecisionTreeClassifier(criterion=\"entropy\")\n",
        "model = model.fit(X_train, y_train)\n",
        "\n",
        "# Treinamendo da Árvore de Decisão\n",
        "# model = tree.DecisionTreeClassifier(criterion=\"gini\")\n",
        "# model = model.fit(X_train, y_train)"
      ],
      "execution_count": 25,
      "outputs": []
    },
    {
      "cell_type": "code",
      "metadata": {
        "id": "6j6q4t2uQROZ",
        "outputId": "d8a3d852-10d3-4e95-ab82-f9055991a188",
        "colab": {
          "base_uri": "https://localhost:8080/",
          "height": 68
        }
      },
      "source": [
        "# Predição e Resultados\n",
        "\n",
        "result = model.predict(X_test)\n",
        "acc = metrics.accuracy_score(result, y_test)\n",
        "show = round(acc * 100)\n",
        "print(\"{}%\".format(show))\n",
        "\n",
        "print(list(result))\n",
        "print(list(y_test))"
      ],
      "execution_count": 26,
      "outputs": [
        {
          "output_type": "stream",
          "text": [
            "74.0%\n",
            "[2, 7, 1, 7, 1, 5, 2, 1, 1, 7, 2, 2, 1, 5, 2, 2, 3, 1, 1, 1, 2, 2, 6, 2, 1, 2, 1, 2, 6, 1, 3, 7, 2, 1, 7, 1, 2, 2, 1, 1, 2, 7, 1]\n",
            "[5, 7, 1, 7, 1, 5, 2, 1, 3, 7, 2, 2, 1, 5, 2, 2, 1, 2, 1, 1, 2, 2, 6, 3, 1, 3, 1, 1, 6, 1, 1, 7, 2, 1, 7, 1, 2, 2, 2, 2, 2, 7, 2]\n"
          ],
          "name": "stdout"
        }
      ]
    },
    {
      "cell_type": "code",
      "metadata": {
        "id": "SWumYSk_QW-y"
      },
      "source": [
        "tree.plot_tree(model) "
      ],
      "execution_count": null,
      "outputs": []
    }
  ]
}