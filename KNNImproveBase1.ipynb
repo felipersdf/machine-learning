{
  "nbformat": 4,
  "nbformat_minor": 0,
  "metadata": {
    "colab": {
      "name": "KNNImproveBase1.ipynb",
      "provenance": [],
      "authorship_tag": "ABX9TyPu2G8E/73yVKmjcCMlXeZ5",
      "include_colab_link": true
    },
    "kernelspec": {
      "name": "python3",
      "display_name": "Python 3"
    }
  },
  "cells": [
    {
      "cell_type": "markdown",
      "metadata": {
        "id": "view-in-github",
        "colab_type": "text"
      },
      "source": [
        "<a href=\"https://colab.research.google.com/github/felipersdf/machine-learning/blob/main/KNNImproveBase1.ipynb\" target=\"_parent\"><img src=\"https://colab.research.google.com/assets/colab-badge.svg\" alt=\"Open In Colab\"/></a>"
      ]
    },
    {
      "cell_type": "code",
      "metadata": {
        "id": "NEzSfneJNIw_"
      },
      "source": [
        "from sklearn.model_selection import train_test_split\n",
        "from sklearn import metrics\n",
        "import pandas as pd\n",
        "from sklearn.neighbors import KNeighborsClassifier\n",
        "import math\n",
        "from collections import Counter\n",
        "import numpy\n",
        "\n",
        "url = \"https://raw.githubusercontent.com/felipersdf/machine-learning/main/datasets/glass.data\"\n",
        "\n",
        "\n",
        "# #LEGENDA\n",
        "#    1. Id number: 1 to 214\n",
        "#    2. RI: refractive index\n",
        "#    3. Na: Sodium (unit measurement: weight percent in corresponding oxide, as \n",
        "#                   are attributes 4-10)\n",
        "#    4. Mg: Magnesium\n",
        "#    5. Al: Aluminum\n",
        "#    6. Si: Silicon\n",
        "#    7. K: Potassium\n",
        "#    8. Ca: Calcium\n",
        "#    9. Ba: Barium\n",
        "#   10. Fe: Iron\n",
        "#   11. Type of glass: (class attribute)\n",
        "#       -- 1 building_windows_float_processed\n",
        "#       -- 2 building_windows_non_float_processed\n",
        "#       -- 3 vehicle_windows_float_processed\n",
        "#       -- 4 vehicle_windows_non_float_processed (none in this database)\n",
        "#       -- 5 containers\n",
        "#       -- 6 tableware\n",
        "#       -- 7 headlamps\n",
        "\n",
        "# GLASS\n",
        "col_names = ['id', 'ri', 'na', 'mg', 'al', 'si', 'K', 'ca', 'ba', 'fe', 'tipo']\n",
        "feature_cols = ['ri', 'na', 'mg', 'al', 'si', 'K', 'ca', 'ba', 'fe',]\n",
        "\n",
        "\n",
        "# Carregar base de dados\n",
        "# DataFrame\n",
        "dataset = pd.read_csv(url, header=None, names=col_names)\n",
        "\n",
        "X = dataset[feature_cols] # Atributos (Features)\n",
        "y = dataset['tipo'] # Saída"
      ],
      "execution_count": 1,
      "outputs": []
    },
    {
      "cell_type": "code",
      "metadata": {
        "id": "lbBA3sDNNQbf"
      },
      "source": [
        "X_train, X_test, y_train, y_test = train_test_split(X, y, test_size=0.2, random_state=None, stratify=y) # 80% treino e 20% teste\n",
        "\n",
        "K = 6   # Quantidade de vizinhos mais próximos\n",
        "\n",
        "### Tranforma os dados em listas\n",
        "\n",
        "train_x = X_train.values.tolist()\n",
        "train_y = y_train.values.tolist()\n",
        "\n",
        "test_x = X_test.values.tolist()\n",
        "test_y = y_test.values.tolist()"
      ],
      "execution_count": 11,
      "outputs": []
    },
    {
      "cell_type": "code",
      "metadata": {
        "id": "nCBTcrPUNZiD",
        "outputId": "36f60f54-065c-4fae-eb41-25f9ddc66b88",
        "colab": {
          "base_uri": "https://localhost:8080/",
          "height": 89
        }
      },
      "source": [
        "resultKNN = []\n",
        "resultKNN_improve = []\n",
        "\n",
        "raios = calcular_raios(train_x, train_y)\n",
        "\n",
        "for i in range(len(test_x)):\n",
        "  \n",
        "  # classe = knn(train_x, train_y, test_x[i], K)\n",
        "  # resultKNN.append(classe)\n",
        "  \n",
        "  classeI = knn_improve(train_x, train_y, test_x[i], K, raios)\n",
        "  resultKNN_improve.append(classeI)\n",
        "\n",
        "# acc = metrics.accuracy_score(resultKNN, test_y)\n",
        "acc2 = metrics.accuracy_score(resultKNN_improve, test_y)\n",
        "# show = round(acc * 100)\n",
        "show2 = round(acc2 * 100)\n",
        "# print(\"{}%\".format(show))\n",
        "print(\"{}%\".format(show2))\n",
        "\n",
        "# print(resultKNN)\n",
        "print(resultKNN_improve)\n",
        "print(test_y)"
      ],
      "execution_count": 12,
      "outputs": [
        {
          "output_type": "stream",
          "text": [
            "67.0%\n",
            "[1, 2, 7, 7, 1, 1, 2, 1, 1, 1, 7, 2, 2, 2, 2, 1, 1, 2, 2, 2, 2, 2, 7, 7, 2, 2, 1, 1, 7, 6, 1, 7, 2, 5, 7, 1, 2, 7, 1, 2, 2, 2, 2]\n",
            "[1, 2, 7, 7, 3, 1, 2, 1, 3, 1, 7, 1, 1, 1, 5, 2, 3, 2, 1, 2, 2, 2, 7, 2, 2, 2, 1, 1, 7, 6, 1, 2, 2, 5, 6, 1, 2, 7, 1, 2, 5, 2, 1]\n"
          ],
          "name": "stdout"
        }
      ]
    },
    {
      "cell_type": "code",
      "metadata": {
        "id": "k7QRG8KMNdSd"
      },
      "source": [
        "###############\n",
        "#\n",
        "# KNN Improve\n",
        "#\n",
        "###############\n",
        "def calcular_raios(train_x, train_y):\n",
        "  e = 1e-20\n",
        "  raios = []\n",
        "\n",
        "  for i in range(len(train_x)):\n",
        "    newData = train_x.copy()\n",
        "    newData.pop(i)\n",
        "    newData_y = train_y.copy()\n",
        "    newData_y.pop(i)\n",
        "\n",
        "    results = []\n",
        "\n",
        "    for j in range(len(newData)):\n",
        "      r = 0\n",
        "      \n",
        "      for k in range(len(train_x[i])):\n",
        "        r += (train_x[i][k] - newData[j][k]) ** 2 # Distância Euclidiana\n",
        "  \n",
        "      results.append(math.sqrt(r))\n",
        "    \n",
        "    indexes = numpy.argsort(results) # retorna os índices ordenados\n",
        "\n",
        "    aux = 0\n",
        "    while train_y[i] == newData_y[indexes[aux]]:\n",
        "      aux += 1\n",
        "    \n",
        "    raios.append(results[indexes[aux]] - e)\n",
        "\n",
        "  return raios\n",
        "\n",
        "def knn_improve(train_x, train_y, test, k, raios):\n",
        "  results = []\n",
        "  \n",
        "  for i in range(len(train_x)):\n",
        "    r = 0\n",
        "    \n",
        "    for j in range(len(test)):\n",
        "      r += (test[j] - train_x[i][j]) ** 2 # Distância Euclidiana\n",
        "    \n",
        "    results.append(math.sqrt(r)/raios[i]) # Distância Euclidiana / Raio\n",
        "    \n",
        "  indexes = numpy.argsort(results) # retorna os índices ordenados\n",
        "  \n",
        "  indexes = indexes[0:k] # Pega os k índices mais próximos\n",
        "  \n",
        "  res = [train_y[i] for i in indexes] # Retorna a classe de cada um dos vizinhos\n",
        "  \n",
        "  final = Counter(res)\n",
        "\n",
        "  return final.most_common(1)[0][0] # retorna a classe com maior frequência"
      ],
      "execution_count": 4,
      "outputs": []
    },
    {
      "cell_type": "code",
      "metadata": {
        "id": "MxpyharyNhsw"
      },
      "source": [
        "def knn(train_x, train_y, test, k):\n",
        "  results = []\n",
        "  \n",
        "  for i in range(0,len(train_x)):\n",
        "    r = 0\n",
        "    \n",
        "    for j in range(0,len(test)):\n",
        "      r += (test[j] - train_x[i][j]) ** 2 # Distância Euclidiana\n",
        "    \n",
        "    results.append(math.sqrt(r)) # Distância Euclidiana\n",
        "    \n",
        "  indexes = numpy.argsort(results) # retorna os índices ordenados\n",
        "  \n",
        "  indexes = indexes[0:k] # Pega os k índices mais próximos\n",
        "  \n",
        "  res = [train_y[i] for i in indexes] # Retorna a classe de cada um dos vizinhos\n",
        "  \n",
        "  final = Counter(res)\n",
        "\n",
        "  return final.most_common(1)[0][0] # retorna a classe com maior frequência"
      ],
      "execution_count": 5,
      "outputs": []
    }
  ]
}