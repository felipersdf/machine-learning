{
  "nbformat": 4,
  "nbformat_minor": 0,
  "metadata": {
    "colab": {
      "name": "KNNBase1.ipynb",
      "provenance": [],
      "authorship_tag": "ABX9TyOO2BShInP7FTtwtJ9UgF+o",
      "include_colab_link": true
    },
    "kernelspec": {
      "name": "python3",
      "display_name": "Python 3"
    }
  },
  "cells": [
    {
      "cell_type": "markdown",
      "metadata": {
        "id": "view-in-github",
        "colab_type": "text"
      },
      "source": [
        "<a href=\"https://colab.research.google.com/github/felipersdf/machine-learning/blob/main/KNNBase1.ipynb\" target=\"_parent\"><img src=\"https://colab.research.google.com/assets/colab-badge.svg\" alt=\"Open In Colab\"/></a>"
      ]
    },
    {
      "cell_type": "code",
      "metadata": {
        "id": "izvef3dgKe7O"
      },
      "source": [
        "from sklearn.model_selection import train_test_split\n",
        "from sklearn import metrics\n",
        "import pandas as pd\n",
        "from sklearn.neighbors import KNeighborsClassifier\n",
        "from sklearn.preprocessing import LabelEncoder\n",
        "\n",
        "url = \"https://raw.githubusercontent.com/felipersdf/machine-learning/main/datasets/glass.data\"\n",
        "\n",
        "\n",
        "# #LEGENDA\n",
        "#    1. Id number: 1 to 214\n",
        "#    2. RI: refractive index\n",
        "#    3. Na: Sodium (unit measurement: weight percent in corresponding oxide, as \n",
        "#                   are attributes 4-10)\n",
        "#    4. Mg: Magnesium\n",
        "#    5. Al: Aluminum\n",
        "#    6. Si: Silicon\n",
        "#    7. K: Potassium\n",
        "#    8. Ca: Calcium\n",
        "#    9. Ba: Barium\n",
        "#   10. Fe: Iron\n",
        "#   11. Type of glass: (class attribute)\n",
        "#       -- 1 building_windows_float_processed\n",
        "#       -- 2 building_windows_non_float_processed\n",
        "#       -- 3 vehicle_windows_float_processed\n",
        "#       -- 4 vehicle_windows_non_float_processed (none in this database)\n",
        "#       -- 5 containers\n",
        "#       -- 6 tableware\n",
        "#       -- 7 headlamps\n",
        "\n",
        "# GLASS\n",
        "col_names = ['id', 'ri', 'na', 'mg', 'al', 'si', 'K', 'ca', 'ba', 'fe', 'tipo']\n",
        "feature_cols = ['ri', 'na', 'mg', 'al', 'si', 'K', 'ca', 'ba', 'fe',]\n",
        "\n",
        "\n",
        "# Carregar base de dados\n",
        "# DataFrame\n",
        "dataset = pd.read_csv(url, header=None, names=col_names)\n",
        "\n",
        "X = dataset[feature_cols] # Atributos (Features)\n",
        "y = dataset.tipo # Saída"
      ],
      "execution_count": 1,
      "outputs": []
    },
    {
      "cell_type": "code",
      "metadata": {
        "id": "FvG4oC23KyCS"
      },
      "source": [
        "X_train, X_test, y_train, y_test = train_test_split(X, y, test_size=0.2, random_state=None, stratify=y) # 80% treino e 20% teste\n",
        "\n",
        "K = 5\n",
        "# K = 6\n",
        "# K = 7\n",
        "\n",
        "\n",
        "# model = KNeighborsClassifier(n_neighbors=K, metric='euclidean', algorithm='brute')\n",
        "# model = KNeighborsClassifier(n_neighbors=K, metric='manhattan', algorithm='brute')\n",
        "model = KNeighborsClassifier(n_neighbors=K, metric='chebyshev', algorithm='brute')\n",
        "\n",
        "# use le.inverse_transform(X_train['buying']) to decode\n",
        "\n",
        "model = model.fit(X_train, y_train)"
      ],
      "execution_count": 10,
      "outputs": []
    },
    {
      "cell_type": "code",
      "metadata": {
        "id": "0DISp3f3LCu0",
        "outputId": "6b45d493-8968-494d-9260-e8e7da84eb31",
        "colab": {
          "base_uri": "https://localhost:8080/",
          "height": 89
        }
      },
      "source": [
        "result = model.predict(X_test)\n",
        "acc = metrics.accuracy_score(result, y_test)\n",
        "show = round(acc * 100)\n",
        "print(\"{}%\".format(show))\n",
        "\n",
        "print(list(result))\n",
        "print(list(y_test))"
      ],
      "execution_count": 13,
      "outputs": [
        {
          "output_type": "stream",
          "text": [
            "60.0%\n",
            "[5, 5, 1, 7, 2, 2, 2, 2, 7, 1, 2, 1, 1, 2, 2, 2, 1, 2, 2, 7, 1, 1, 1, 1, 1, 6, 2, 1, 5, 1, 6, 1, 7, 7, 2, 2, 2, 7, 1, 1, 2, 2, 1]\n",
            "[5, 2, 1, 7, 2, 1, 2, 2, 7, 1, 2, 1, 3, 1, 2, 5, 1, 2, 1, 5, 7, 2, 1, 1, 7, 2, 1, 1, 2, 1, 6, 1, 7, 7, 2, 3, 2, 6, 1, 2, 2, 2, 3]\n"
          ],
          "name": "stdout"
        }
      ]
    }
  ]
}