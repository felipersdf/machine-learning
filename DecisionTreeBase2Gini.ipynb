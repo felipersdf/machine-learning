{
  "nbformat": 4,
  "nbformat_minor": 0,
  "metadata": {
    "colab": {
      "name": "DecisionTreeBase2Entrophy.ipynb",
      "provenance": [],
      "authorship_tag": "ABX9TyM1LY0oaSCvgUHkgVyuiqXS",
      "include_colab_link": true
    },
    "kernelspec": {
      "name": "python3",
      "display_name": "Python 3"
    }
  },
  "cells": [
    {
      "cell_type": "markdown",
      "metadata": {
        "id": "view-in-github",
        "colab_type": "text"
      },
      "source": [
        "<a href=\"https://colab.research.google.com/github/felipersdf/machine-learning/blob/main/DecisionTreeBase2Gini.ipynb\" target=\"_parent\"><img src=\"https://colab.research.google.com/assets/colab-badge.svg\" alt=\"Open In Colab\"/></a>"
      ]
    },
    {
      "cell_type": "code",
      "metadata": {
        "id": "kBPUMJJgAx_1"
      },
      "source": [
        "from sklearn import tree\n",
        "from sklearn.model_selection import train_test_split\n",
        "from sklearn import metrics\n",
        "import pandas as pd\n",
        "\n",
        "url = \"https://raw.githubusercontent.com/larissamoreira/machine-learning/master/datasets/car.data\"\n",
        "\n",
        "col_names = ['buying', 'maint', 'doors', 'persons', 'lug_boot', 'safety', 'class']\n",
        "feature_cols = ['buying', 'maint', 'doors', 'persons', 'lug_boot', 'safety']\n",
        "\n",
        "dataset = pd.read_csv(url, header=None, names=col_names)\n",
        "\n",
        "# representing the categorical columns as numerical columns.\n",
        "le = LabelEncoder()\n",
        "for col in dataset:\n",
        "  le.fit(dataset[col])\n",
        "  dataset[col] = le.transform(dataset[col])\n",
        "\n",
        "X = dataset[feature_cols]\n",
        "y = dataset['class']"
      ],
      "execution_count": 34,
      "outputs": []
    },
    {
      "cell_type": "code",
      "metadata": {
        "id": "DHWTiLWyB3Ar"
      },
      "source": [
        "X_train, X_test, y_train, y_test = train_test_split(X, y, test_size=0.2, random_state=None, stratify=y) # 80% treino e 20% teste"
      ],
      "execution_count": 40,
      "outputs": []
    },
    {
      "cell_type": "code",
      "metadata": {
        "id": "LftrtJI0B6T_"
      },
      "source": [
        "# # Treinamendo da Árvore de Decisão\n",
        "# model = tree.DecisionTreeClassifier(criterion=\"entropy\")\n",
        "# model = model.fit(X_train, y_train)\n",
        "\n",
        "model = tree.DecisionTreeClassifier(criterion=\"gini\")\n",
        "model = model.fit(X_train, y_train)"
      ],
      "execution_count": 41,
      "outputs": []
    },
    {
      "cell_type": "code",
      "metadata": {
        "id": "8Tj3qBgoB-JT",
        "outputId": "77e2c1fe-79d7-4a64-c813-328f718f4153",
        "colab": {
          "base_uri": "https://localhost:8080/",
          "height": 88
        }
      },
      "source": [
        "# Predição e Resultados\n",
        "\n",
        "result = model.predict(X_test)\n",
        "acc = metrics.accuracy_score(result, y_test)\n",
        "show = round(acc * 100)\n",
        "print(\"{}%\".format(show))\n",
        "\n",
        "print(list(result))\n",
        "print(list(y_test))"
      ],
      "execution_count": 42,
      "outputs": [
        {
          "output_type": "stream",
          "text": [
            "98.0%\n",
            "[2, 2, 2, 2, 2, 1, 2, 2, 2, 2, 2, 2, 2, 0, 0, 1, 2, 2, 2, 2, 2, 2, 2, 2, 0, 2, 0, 2, 2, 0, 0, 2, 2, 2, 0, 2, 2, 2, 2, 2, 0, 2, 2, 2, 0, 2, 2, 1, 2, 0, 2, 2, 2, 2, 2, 0, 1, 2, 0, 2, 2, 3, 2, 2, 0, 2, 0, 2, 2, 2, 2, 2, 0, 3, 2, 0, 2, 2, 2, 2, 2, 2, 2, 2, 0, 0, 2, 2, 1, 2, 2, 2, 0, 2, 2, 2, 0, 2, 2, 2, 2, 0, 3, 2, 0, 2, 2, 2, 2, 0, 0, 0, 0, 0, 3, 0, 2, 2, 2, 2, 2, 2, 0, 0, 0, 2, 2, 2, 2, 0, 2, 2, 3, 2, 2, 2, 2, 2, 2, 2, 2, 1, 0, 2, 1, 0, 2, 2, 2, 2, 2, 0, 2, 0, 2, 2, 2, 2, 2, 2, 2, 2, 2, 2, 2, 2, 2, 0, 2, 2, 2, 2, 2, 2, 2, 2, 0, 2, 2, 2, 1, 2, 2, 0, 2, 2, 1, 2, 2, 2, 2, 3, 2, 2, 2, 2, 2, 2, 1, 2, 0, 2, 2, 2, 3, 2, 0, 0, 0, 0, 2, 2, 2, 2, 2, 0, 3, 2, 0, 2, 2, 2, 0, 2, 2, 2, 1, 0, 2, 2, 2, 0, 2, 2, 2, 0, 2, 2, 0, 3, 2, 1, 2, 2, 2, 3, 2, 2, 2, 2, 0, 2, 2, 2, 2, 2, 2, 2, 2, 1, 2, 2, 2, 2, 0, 2, 2, 2, 2, 2, 2, 2, 2, 1, 2, 2, 0, 2, 2, 2, 2, 0, 0, 2, 2, 0, 3, 2, 2, 2, 2, 0, 2, 2, 2, 2, 2, 2, 2, 2, 0, 2, 0, 2, 2, 2, 2, 0, 2, 2, 2, 0, 2, 1, 2, 2, 0, 2, 0, 0, 2, 0, 2, 0, 0, 2, 2, 1, 3, 2, 0, 0, 0, 0, 2, 2, 2, 2, 2, 2, 0, 0, 2, 2, 2, 2]\n",
            "[2, 2, 2, 2, 2, 1, 2, 2, 2, 2, 2, 2, 2, 0, 0, 1, 2, 2, 2, 0, 2, 2, 2, 2, 0, 2, 0, 2, 2, 0, 0, 2, 2, 2, 0, 2, 2, 2, 2, 2, 0, 2, 2, 2, 0, 2, 2, 1, 2, 0, 2, 2, 2, 2, 2, 0, 1, 2, 0, 0, 2, 3, 2, 2, 0, 2, 0, 2, 2, 2, 2, 2, 0, 3, 2, 0, 2, 2, 2, 2, 2, 2, 2, 2, 0, 0, 2, 2, 1, 2, 2, 2, 0, 2, 2, 2, 0, 2, 2, 2, 2, 0, 3, 2, 0, 2, 2, 2, 2, 0, 0, 0, 0, 0, 3, 0, 2, 2, 2, 2, 2, 2, 0, 0, 0, 2, 2, 2, 2, 0, 2, 2, 3, 2, 2, 2, 2, 2, 2, 2, 2, 1, 2, 2, 1, 0, 2, 2, 2, 2, 2, 0, 2, 0, 0, 2, 2, 2, 2, 2, 2, 2, 2, 2, 2, 2, 2, 0, 2, 2, 2, 2, 2, 2, 2, 2, 0, 2, 2, 2, 0, 2, 2, 0, 2, 2, 1, 2, 2, 2, 2, 3, 2, 2, 2, 2, 2, 2, 1, 2, 0, 2, 2, 2, 3, 2, 0, 0, 0, 0, 2, 2, 2, 2, 2, 0, 3, 2, 0, 2, 2, 2, 0, 2, 2, 2, 1, 0, 2, 2, 2, 0, 2, 2, 2, 0, 2, 2, 0, 3, 2, 1, 2, 2, 2, 3, 2, 2, 2, 2, 0, 2, 2, 2, 2, 2, 2, 2, 2, 1, 2, 2, 2, 2, 0, 2, 2, 2, 2, 2, 2, 2, 2, 1, 2, 2, 0, 2, 2, 2, 2, 0, 0, 2, 2, 0, 3, 2, 2, 2, 2, 0, 2, 2, 2, 2, 2, 2, 2, 2, 0, 2, 0, 2, 2, 2, 2, 0, 2, 2, 2, 3, 2, 1, 2, 2, 0, 2, 0, 0, 2, 0, 2, 0, 0, 2, 2, 0, 3, 2, 0, 0, 0, 0, 2, 2, 2, 2, 2, 2, 0, 0, 2, 2, 2, 2]\n"
          ],
          "name": "stdout"
        }
      ]
    },
    {
      "cell_type": "code",
      "metadata": {
        "id": "RrFXuTmAB_97"
      },
      "source": [
        "tree.plot_tree(model) "
      ],
      "execution_count": null,
      "outputs": []
    }
  ]
}